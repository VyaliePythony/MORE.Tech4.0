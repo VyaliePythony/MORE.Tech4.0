{
 "cells": [
  {
   "cell_type": "code",
   "execution_count": 1,
   "metadata": {},
   "outputs": [],
   "source": [
    "import pandas as pd"
   ]
  },
  {
   "cell_type": "code",
   "execution_count": 2,
   "metadata": {},
   "outputs": [],
   "source": [
    "labels = ['link', 'title', 'text', 'date']\n",
    "data = pd.read_csv(\"../appdata/data.csv\",sep=';', names=labels)"
   ]
  },
  {
   "cell_type": "code",
   "execution_count": 3,
   "metadata": {},
   "outputs": [
    {
     "data": {
      "text/html": [
       "<div>\n",
       "<style scoped>\n",
       "    .dataframe tbody tr th:only-of-type {\n",
       "        vertical-align: middle;\n",
       "    }\n",
       "\n",
       "    .dataframe tbody tr th {\n",
       "        vertical-align: top;\n",
       "    }\n",
       "\n",
       "    .dataframe thead th {\n",
       "        text-align: right;\n",
       "    }\n",
       "</style>\n",
       "<table border=\"1\" class=\"dataframe\">\n",
       "  <thead>\n",
       "    <tr style=\"text-align: right;\">\n",
       "      <th></th>\n",
       "      <th>link</th>\n",
       "      <th>title</th>\n",
       "      <th>text</th>\n",
       "      <th>date</th>\n",
       "    </tr>\n",
       "  </thead>\n",
       "  <tbody>\n",
       "    <tr>\n",
       "      <th>232</th>\n",
       "      <td>https://www.vedomosti.ru/economics/news/2022/0...</td>\n",
       "      <td>Не менее 10 стран ЕС потребовали ограничить це...</td>\n",
       "      <td>Как минимум 10 стран Евросоюза, в том числе Ит...</td>\n",
       "      <td>09/09/2022 11:27:19</td>\n",
       "    </tr>\n",
       "    <tr>\n",
       "      <th>235</th>\n",
       "      <td>https://www.vedomosti.ru/economics/news/2022/0...</td>\n",
       "      <td>Платежная система «Мир» может заработать в Таи...</td>\n",
       "      <td>Карты российской платежной системы «Мир» начну...</td>\n",
       "      <td>09/09/2022 12:48:41</td>\n",
       "    </tr>\n",
       "    <tr>\n",
       "      <th>230</th>\n",
       "      <td>https://www.vedomosti.ru/economics/news/2022/0...</td>\n",
       "      <td>Банк Англии перенес объявление решения по учет...</td>\n",
       "      <td>Банк Англии в связи с кончиной королевы Елизав...</td>\n",
       "      <td>09/09/2022 12:55:30</td>\n",
       "    </tr>\n",
       "    <tr>\n",
       "      <th>16</th>\n",
       "      <td>https://www.vedomosti.ru/economics/news/2022/0...</td>\n",
       "      <td>«Нафтогаз» решил судиться с «Газпромом» из-за ...</td>\n",
       "      <td>Госкомпания «Нафтогаз Украины» подала прошение...</td>\n",
       "      <td>09/09/2022 15:17:59</td>\n",
       "    </tr>\n",
       "    <tr>\n",
       "      <th>218</th>\n",
       "      <td>https://www.vedomosti.ru/economics/news/2022/0...</td>\n",
       "      <td>Путин сообщил о готовности России бесплатно пе...</td>\n",
       "      <td>Президент России Владимир Путин в ходе совещан...</td>\n",
       "      <td>09/09/2022 16:14:34</td>\n",
       "    </tr>\n",
       "    <tr>\n",
       "      <th>...</th>\n",
       "      <td>...</td>\n",
       "      <td>...</td>\n",
       "      <td>...</td>\n",
       "      <td>...</td>\n",
       "    </tr>\n",
       "    <tr>\n",
       "      <th>163</th>\n",
       "      <td>https://www.vedomosti.ru/economics/news/2022/1...</td>\n",
       "      <td>Годовая инфляция в России замедлилась до 13,68...</td>\n",
       "      <td>Инфляция в России в годовом выражении в сентяб...</td>\n",
       "      <td>10/07/2022 17:38:43</td>\n",
       "    </tr>\n",
       "    <tr>\n",
       "      <th>207</th>\n",
       "      <td>https://www.mk.ru/economics/2022/10/08/akademi...</td>\n",
       "      <td>Академик Аганбегян в день 90-летнего юбилея да...</td>\n",
       "      <td>- Как вы оцениваете текущую экономическую ситу...</td>\n",
       "      <td>10/08/2022 07:07:08</td>\n",
       "    </tr>\n",
       "    <tr>\n",
       "      <th>165</th>\n",
       "      <td>https://www.vedomosti.ru/economics/news/2022/1...</td>\n",
       "      <td>Власти Севастополя ограничили отпуск бакалейны...</td>\n",
       "      <td>Власти Севастополя вводят ограничение на отпус...</td>\n",
       "      <td>10/08/2022 09:23:30</td>\n",
       "    </tr>\n",
       "    <tr>\n",
       "      <th>203</th>\n",
       "      <td>https://www.vedomosti.ru/economics/news/2022/1...</td>\n",
       "      <td>Сбербанк объявил о повышении ставок по рыночны...</td>\n",
       "      <td>Сбербанк решил повысить ставки по рыночным ипо...</td>\n",
       "      <td>10/08/2022 09:52:39</td>\n",
       "    </tr>\n",
       "    <tr>\n",
       "      <th>175</th>\n",
       "      <td>https://www.vedomosti.ru/economics/news/2022/1...</td>\n",
       "      <td>Глава МИД Саудовской Аравии отрицает сокращени...</td>\n",
       "      <td>В высоких ценах на бензин в США не виновата Са...</td>\n",
       "      <td>10/08/2022 11:54:56</td>\n",
       "    </tr>\n",
       "  </tbody>\n",
       "</table>\n",
       "<p>240 rows × 4 columns</p>\n",
       "</div>"
      ],
      "text/plain": [
       "                                                  link  \\\n",
       "232  https://www.vedomosti.ru/economics/news/2022/0...   \n",
       "235  https://www.vedomosti.ru/economics/news/2022/0...   \n",
       "230  https://www.vedomosti.ru/economics/news/2022/0...   \n",
       "16   https://www.vedomosti.ru/economics/news/2022/0...   \n",
       "218  https://www.vedomosti.ru/economics/news/2022/0...   \n",
       "..                                                 ...   \n",
       "163  https://www.vedomosti.ru/economics/news/2022/1...   \n",
       "207  https://www.mk.ru/economics/2022/10/08/akademi...   \n",
       "165  https://www.vedomosti.ru/economics/news/2022/1...   \n",
       "203  https://www.vedomosti.ru/economics/news/2022/1...   \n",
       "175  https://www.vedomosti.ru/economics/news/2022/1...   \n",
       "\n",
       "                                                 title  \\\n",
       "232  Не менее 10 стран ЕС потребовали ограничить це...   \n",
       "235  Платежная система «Мир» может заработать в Таи...   \n",
       "230  Банк Англии перенес объявление решения по учет...   \n",
       "16   «Нафтогаз» решил судиться с «Газпромом» из-за ...   \n",
       "218  Путин сообщил о готовности России бесплатно пе...   \n",
       "..                                                 ...   \n",
       "163  Годовая инфляция в России замедлилась до 13,68...   \n",
       "207  Академик Аганбегян в день 90-летнего юбилея да...   \n",
       "165  Власти Севастополя ограничили отпуск бакалейны...   \n",
       "203  Сбербанк объявил о повышении ставок по рыночны...   \n",
       "175  Глава МИД Саудовской Аравии отрицает сокращени...   \n",
       "\n",
       "                                                  text                 date  \n",
       "232  Как минимум 10 стран Евросоюза, в том числе Ит...  09/09/2022 11:27:19  \n",
       "235  Карты российской платежной системы «Мир» начну...  09/09/2022 12:48:41  \n",
       "230  Банк Англии в связи с кончиной королевы Елизав...  09/09/2022 12:55:30  \n",
       "16   Госкомпания «Нафтогаз Украины» подала прошение...  09/09/2022 15:17:59  \n",
       "218  Президент России Владимир Путин в ходе совещан...  09/09/2022 16:14:34  \n",
       "..                                                 ...                  ...  \n",
       "163  Инфляция в России в годовом выражении в сентяб...  10/07/2022 17:38:43  \n",
       "207  - Как вы оцениваете текущую экономическую ситу...  10/08/2022 07:07:08  \n",
       "165  Власти Севастополя вводят ограничение на отпус...  10/08/2022 09:23:30  \n",
       "203  Сбербанк решил повысить ставки по рыночным ипо...  10/08/2022 09:52:39  \n",
       "175  В высоких ценах на бензин в США не виновата Са...  10/08/2022 11:54:56  \n",
       "\n",
       "[240 rows x 4 columns]"
      ]
     },
     "execution_count": 3,
     "metadata": {},
     "output_type": "execute_result"
    }
   ],
   "source": [
    "data.sort_values(by='date', ascending=True)"
   ]
  },
  {
   "cell_type": "code",
   "execution_count": 4,
   "metadata": {},
   "outputs": [
    {
     "data": {
      "text/plain": [
       "240"
      ]
     },
     "execution_count": 4,
     "metadata": {},
     "output_type": "execute_result"
    }
   ],
   "source": [
    "len(data.date.unique())"
   ]
  },
  {
   "cell_type": "code",
   "execution_count": null,
   "metadata": {},
   "outputs": [],
   "source": []
  }
 ],
 "metadata": {
  "kernelspec": {
   "display_name": "Python 3.10.6 ('env': venv)",
   "language": "python",
   "name": "python3"
  },
  "language_info": {
   "codemirror_mode": {
    "name": "ipython",
    "version": 3
   },
   "file_extension": ".py",
   "mimetype": "text/x-python",
   "name": "python",
   "nbconvert_exporter": "python",
   "pygments_lexer": "ipython3",
   "version": "3.10.6"
  },
  "orig_nbformat": 4,
  "vscode": {
   "interpreter": {
    "hash": "8f585a8d990e51e3fa025b6d858301128a7a399dc911cc7f5ae7d9e9e2eb4ea4"
   }
  }
 },
 "nbformat": 4,
 "nbformat_minor": 2
}
